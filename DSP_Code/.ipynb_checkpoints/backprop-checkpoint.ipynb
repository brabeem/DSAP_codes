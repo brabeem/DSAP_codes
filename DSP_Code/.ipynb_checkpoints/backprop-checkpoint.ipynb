{
 "cells": [
  {
   "cell_type": "code",
   "execution_count": 2,
   "metadata": {},
   "outputs": [],
   "source": [
    "import numpy as np\n",
    "import matplotlib.pyplot as plt\n",
    "\n",
    "\n",
    "train_data = np.array([[0,0,1,1],[0,1,0,1]])##2*4\n",
    "targets = np.array([0,1,1,0])  ##1*4\n",
    "\n"
   ]
  },
  {
   "cell_type": "code",
   "execution_count": 35,
   "metadata": {},
   "outputs": [],
   "source": [
    "##define sigmoid function\n",
    "\n",
    "def sigmoid(x):\n",
    "    return 1/(1 + np.exp(-x))\n",
    "\n",
    "\n",
    "###initialize the network\n",
    "\n",
    "def init_network():\n",
    "    W1 = np.random.randn(4,2)\n",
    "    b1 = np.zeros((4,1))\n",
    "    W2 = np.random.randn(1,4)\n",
    "    b2 = np.zeros((1,1))\n",
    "    network = {\"W1\":W1,\"b1\":b1,\"W2\":W2,\"b2\":b2}\n",
    "    return network\n",
    "\n",
    "##forward propagate##\n",
    "\n",
    "\n",
    "def forward_propagate(x,t,net):\n",
    "#     x = np.expand_dims(x,1)\n",
    "    Z1 = np.matmul(net[\"W1\"] ,x) + net[\"b1\"]\n",
    "    a1 = sigmoid(Z1)\n",
    "    Z2 = np.matmul(net[\"W2\"],a1) + net[\"b2\"]\n",
    "    a2 = sigmoid(Z2)\n",
    "    cache = {\"x\":x,\"Z1\":Z1,\"a1\":a1,\"Z2\":Z2,\"a2\":a2,\"t\":t}\n",
    "    return a2,cache\n",
    "\n",
    "##return loss##\n",
    "\n",
    "def MSE_loss(targets,labels):##pass target and labels as equal length vectors\n",
    "    return np.sum(np.square(targets - labels))\n",
    "    \n",
    "\n",
    "##backpropagate##\n",
    "##cache includes data saved to backpropagate##\n",
    "def backpropagate(cache):##forward pass garda cache ma kk chainxa??\n",
    "    dZ2 = 0.5 * (cache[\"a2\"] - cache['t']) * (cache[\"a2\"]) * (1 - cache[\"a2\"])\n",
    "    dW2 = 0.25 * np.matmul(dZ2,cache[\"a1\"].T)\n",
    "    dB2 = 0.25 * np.expand_dims(np.sum(dZ2,axis=1),axis=1)\n",
    "    dZ1 = np.tile(dW2.T,(1,4)) * dZ2 * (cache[\"a1\"] * (1 - cache[\"a1\"]))\n",
    "    dW1 = 0.25 * np.matmul(dZ1,cache[\"x\"].T)\n",
    "    dB1 = 0.25 * np.expand_dims(np.sum(dZ1,axis=1),axis=1)\n",
    "    grads = {\"dZ2\":dZ2,\"dW2\":dW2,\"dB2\":dB2,\"dZ1\":dZ1,\"dW1\":dW1,\"dB1\":dB1}\n",
    "    return grads\n",
    "\n",
    "##now train by running certain number of epochs##\n",
    "\n",
    "def train(train_data,targets,net,alpha=0.01):\n",
    "    i = 0\n",
    "    while(i<10000):\n",
    "        i += 1\n",
    "        output , cache = forward_propagate(train_data,targets,net)\n",
    "        loss = MSE_loss(targets,output)\n",
    "        print(loss)\n",
    "        if loss < 0.01:\n",
    "            break\n",
    "        else:\n",
    "            grads = backpropagate(cache)\n",
    "            ##update the network##\n",
    "            net[\"W1\"] = net[\"W1\"] - alpha * grads[\"dW1\"]\n",
    "            net[\"W2\"] = net[\"W2\"] - alpha * grads[\"dW2\"]\n",
    "            net[\"b1\"] = net[\"b1\"] - alpha * grads[\"dB1\"]\n",
    "            net[\"b2\"] = net[\"b2\"] - alpha * grads[\"dB2\"]\n",
    "\n",
    "        "
   ]
  },
  {
   "cell_type": "code",
   "execution_count": 39,
   "metadata": {},
   "outputs": [
    {
     "name": "stdout",
     "output_type": "stream",
     "text": [
      "[[0.42274087 0.49048515 0.54936204 0.55200526]]\n"
     ]
    }
   ],
   "source": [
    "# net  = init_network()\n",
    "# train(train_data=train_data,targets=targets,net=net)\n",
    "output , _ = forward_propagate(train_data,targets,net)\n",
    "print(output)"
   ]
  },
  {
   "cell_type": "code",
   "execution_count": 25,
   "metadata": {},
   "outputs": [
    {
     "data": {
      "text/plain": [
       "(3,)"
      ]
     },
     "execution_count": 25,
     "metadata": {},
     "output_type": "execute_result"
    }
   ],
   "source": [
    "np.sum([[1,1,1],[2,2,2]],axis=0).shape"
   ]
  },
  {
   "cell_type": "code",
   "execution_count": null,
   "metadata": {},
   "outputs": [],
   "source": []
  }
 ],
 "metadata": {
  "kernelspec": {
   "display_name": "Python 3",
   "language": "python",
   "name": "python3"
  },
  "language_info": {
   "codemirror_mode": {
    "name": "ipython",
    "version": 3
   },
   "file_extension": ".py",
   "mimetype": "text/x-python",
   "name": "python",
   "nbconvert_exporter": "python",
   "pygments_lexer": "ipython3",
   "version": "3.7.6"
  }
 },
 "nbformat": 4,
 "nbformat_minor": 4
}

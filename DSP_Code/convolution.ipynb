{
 "cells": [
  {
   "cell_type": "code",
   "execution_count": 7,
   "metadata": {},
   "outputs": [
    {
     "name": "stdout",
     "output_type": "stream",
     "text": [
      "(8, 3)\n"
     ]
    }
   ],
   "source": [
    "import numpy as np\n",
    "import matplotlib.pyplot as plt\n",
    "##input kunai function dini banaunu paro\n",
    "x_n = np.array([1,2,3,4,5,6,7,8])\n",
    "h_n = np.array([1,0.75,0.5])\n",
    "x_n = np.expand_dims(x_n,1)\n",
    "h_n = np.expand_dims(h_n,0)\n",
    "product = np.matmul(x_n,h_n)\n",
    "print(product.shape)"
   ]
  },
  {
   "cell_type": "code",
   "execution_count": 4,
   "metadata": {},
   "outputs": [
    {
     "name": "stdout",
     "output_type": "stream",
     "text": [
      "(1, 10)\n",
      "8\n",
      "3\n"
     ]
    }
   ],
   "source": [
    "##To extract the convolution from theproduct matrix\n",
    "conv = np.zeros((1,product.shape[0] + product.shape[1] - 1)) ##convlution ko result store garni array\n",
    "print(conv.shape)\n",
    "print(product.shape[0])\n",
    "print(product.shape[1])\n",
    "\n",
    "\n",
    "for i in range(product.shape[0]):\n",
    "    for j in range(product.shape[1]):\n",
    "        conv[0,i+j] = conv[0,i+j] + product[i,j]\n",
    "\n"
   ]
  },
  {
   "cell_type": "code",
   "execution_count": 5,
   "metadata": {},
   "outputs": [
    {
     "data": {
      "image/png": "[encoded data removed]",
      "text/plain": [
       "<Figure size 432x288 with 3 Axes>"
      ]
     },
     "metadata": {
      "needs_background": "light"
     },
     "output_type": "display_data"
    }
   ],
   "source": [
    "##plot all the result input and output\n",
    "plt.subplot(311)\n",
    "plt.xlabel(\"seq\")\n",
    "plt.title(\"Signal\")\n",
    "plt.ylabel(\"amp\")\n",
    "plt.stem(x_n.reshape((x_n.shape[0],)),use_line_collection=True)\n",
    "\n",
    "plt.subplot(312)\n",
    "plt.xlabel(\"seq\")\n",
    "plt.title(\"LTI_response\")\n",
    "plt.ylabel(\"amp\")\n",
    "plt.stem(h_n.reshape((h_n.shape[1],)),use_line_collection=True)\n",
    "\n",
    "\n",
    "plt.subplot(313)\n",
    "plt.xlabel(\"seq\")\n",
    "plt.title(\"LTI_output\")\n",
    "plt.ylabel(\"amp\")\n",
    "plt.stem(conv.reshape((conv.shape[1],)),use_line_collection=True)\n",
    "plt.tight_layout()"
   ]
  },
  {
   "cell_type": "code",
   "execution_count": null,
   "metadata": {},
   "outputs": [],
   "source": []
  }
 ],
 "metadata": {
  "interpreter": {
   "hash": "a16280308017aeff994d6f82fa17551f539861d5dfe26be943aae8003a5aefe3"
  },
  "kernelspec": {
   "display_name": "Python 3.7.6 ('base')",
   "language": "python",
   "name": "python3"
  },
  "language_info": {
   "codemirror_mode": {
    "name": "ipython",
    "version": 3
   },
   "file_extension": ".py",
   "mimetype": "text/x-python",
   "name": "python",
   "nbconvert_exporter": "python",
   "pygments_lexer": "ipython3",
   "version": "3.7.6"
  },
  "orig_nbformat": 4
 },
 "nbformat": 4,
 "nbformat_minor": 2
}

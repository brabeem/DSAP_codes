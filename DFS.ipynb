{
 "cells": [
  {
   "cell_type": "code",
   "execution_count": 19,
   "metadata": {},
   "outputs": [],
   "source": [
    "import numpy as np\n",
    "import cmath \n",
    "\n",
    "##a function that calculates the value of complex exponential;\n",
    "def calc_complex_exponential(omega):\n",
    "    j = cmath.sqrt(-1)\n",
    "    val = np.cos(omega) + j* np.sin(omega)\n",
    "    return val\n",
    "\n",
    "def create_DFS_mat(val,N):\n",
    "    mat = np.zeros((N,N),dtype=np.complex)\n",
    "    for i in range(N):\n",
    "        for j in range(N):\n",
    "            # print((val)**((i+1)*(j+1)))\n",
    "            mat[i][j] = (val)**((i+1)*(j+1))\n",
    "            # print(mat[i][j])\n",
    "    return mat \n",
    "\n",
    "def inv_DFS_mat(val,N):\n",
    "    mat = create_DFS_mat(val,N)\n",
    "    return np.linalg.inv(mat)\n",
    "\n",
    "##create an input to pass to the fourier series##\n",
    "def create_input():\n",
    "    a  = np.array([0,1,2,3,2,1,0,-1,-2,-3,-2,-1])\n",
    "    a = np.expand_dims(a,axis=1)\n",
    "    return a \n",
    "\n",
    "def calc_fourier_coef():\n",
    "    a = create_input()\n",
    "    omega = (2*cmath.pi)/12\n",
    "    consta = calc_complex_exponential(omega=omega)\n",
    "    mat = inv_DFS_mat(consta,len(a))\n",
    "    coeffs = np.matmul(mat,a)\n",
    "    return coeffs\n"
   ]
  },
  {
   "cell_type": "code",
   "execution_count": 26,
   "metadata": {},
   "outputs": [
    {
     "data": {
      "text/plain": [
       "<StemContainer object of 3 artists>"
      ]
     },
     "execution_count": 26,
     "metadata": {},
     "output_type": "execute_result"
    },
    {
     "data": {
      "image/png": "[encoded data removed]",
      "text/plain": [
       "<Figure size 432x288 with 2 Axes>"
      ]
     },
     "metadata": {
      "needs_background": "light"
     },
     "output_type": "display_data"
    }
   ],
   "source": [
    "import matplotlib.pyplot as plt\n",
    "\n",
    "##plot the input sequence of numbers##\n",
    "plt.subplot(121)\n",
    "plt.stem(create_input())\n",
    "plt.title(\"input_sequence\")\n",
    "\n",
    "##plot the fourier coeffieceints of the sequence of numbers##\n",
    "plt.subplot(122)\n",
    "plt.title(\"magnitude_plot_fourier_series_coefficients\")\n",
    "plt.stem(np.abs(calc_fourier_coef()))\n",
    "# print(np.abs(calc_fourier_coef()))"
   ]
  },
  {
   "cell_type": "code",
   "execution_count": 6,
   "metadata": {},
   "outputs": [
    {
     "data": {
      "text/plain": [
       "3"
      ]
     },
     "execution_count": 6,
     "metadata": {},
     "output_type": "execute_result"
    }
   ],
   "source": [
    "import random\n",
    "random.randint(0,4)"
   ]
  },
  {
   "cell_type": "code",
   "execution_count": null,
   "metadata": {},
   "outputs": [],
   "source": []
  },
  {
   "cell_type": "code",
   "execution_count": null,
   "metadata": {},
   "outputs": [],
   "source": []
  }
 ],
 "metadata": {
  "interpreter": {
   "hash": "b459041f4396dd58695bfbcf139d7279519275f637477b0496f6f4fa2f1f87fd"
  },
  "kernelspec": {
   "display_name": "Python 3.6.13 ('minor')",
   "language": "python",
   "name": "python3"
  },
  "language_info": {
   "codemirror_mode": {
    "name": "ipython",
    "version": 3
   },
   "file_extension": ".py",
   "mimetype": "text/x-python",
   "name": "python",
   "nbconvert_exporter": "python",
   "pygments_lexer": "ipython3",
   "version": "3.6.13"
  },
  "orig_nbformat": 4
 },
 "nbformat": 4,
 "nbformat_minor": 2
}
